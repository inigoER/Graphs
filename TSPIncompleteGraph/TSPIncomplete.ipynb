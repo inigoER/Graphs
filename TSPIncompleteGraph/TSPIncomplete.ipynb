{
  "nbformat": 4,
  "nbformat_minor": 0,
  "metadata": {
    "colab": {
      "provenance": []
    },
    "kernelspec": {
      "name": "python3",
      "display_name": "Python 3"
    },
    "language_info": {
      "name": "python"
    }
  },
  "cells": [
    {
      "cell_type": "code",
      "execution_count": null,
      "metadata": {
        "id": "0tlNOEXE-Hd3"
      },
      "outputs": [],
      "source": [
        "import random\n",
        "import networkx as nx\n",
        "import time\n",
        "import numpy as np\n",
        "from datetime import datetime\n",
        "\n",
        "# Define the graph\n",
        "\n",
        "G = nx.Graph()\n",
        "G.add_node(\"London\")\n",
        "G.add_node(\"Amsterdam\")\n",
        "G.add_node(\"Berlin\")\n",
        "G.add_node(\"Cologne\")\n",
        "G.add_node(\"Frankfurt\")\n",
        "G.add_node(\"Milan\")\n",
        "G.add_node(\"Lyon\")\n",
        "G.add_node(\"Barcelona\")\n",
        "G.add_node(\"Madrid\")\n",
        "G.add_node(\"Paris\")\n",
        "G.add_node(\"Rome\")\n",
        "G.add_node(\"Brussels\")\n",
        "G.add_edge(\"London\", \"Paris\", cost = 98, time = 136)\n",
        "G.add_edge(\"London\", \"Brussels\", cost=48, time = 105)\n",
        "G.add_edge(\"Brussels\", \"Paris\", cost = 80, time = 82)\n",
        "G.add_edge(\"Brussels\", \"Amsterdam\", cost = 40, time = 120)\n",
        "G.add_edge(\"Paris\", \"Madrid\", cost = 380, time = 225)\n",
        "G.add_edge(\"Paris\", \"Barcelona\", cost = 400, time = 390)\n",
        "G.add_edge(\"Paris\", \"Lyon\", cost = 185, time = 112)\n",
        "G.add_edge(\"Paris\", \"Frankfurt\", cost = 345, time = 480)\n",
        "G.add_edge(\"Madrid\", \"Barcelona\", cost = 98, time = 150)\n",
        "G.add_edge(\"Barcelona\", \"Lyon\", cost = 320, time = 260)\n",
        "G.add_edge(\"Lyon\", \"Milan\", cost = 180, time = 234)\n",
        "G.add_edge(\"Milan\", \"Frankfurt\", cost = 240, time = 454)\n",
        "G.add_edge(\"Milan\", \"Rome\", cost = 125, time = 168)\n",
        "G.add_edge(\"Frankfurt\", \"Berlin\", cost = 125, time = 232)\n",
        "G.add_edge(\"Frankfurt\", \"Cologne\", cost = 40, time = 120)\n",
        "G.add_edge(\"Amsterdam\", \"Cologne\", cost = 40, time = 120)\n",
        "G.add_edge(\"Amsterdam\", \"Berlin\", cost = 235, time = 364)"
      ]
    },
    {
      "cell_type": "code",
      "source": [
        "G_new = G.copy()"
      ],
      "metadata": {
        "id": "qFPWkw0Ds4YB"
      },
      "execution_count": null,
      "outputs": []
    },
    {
      "cell_type": "code",
      "source": [
        "#Making the graph complete, using djikstra\n",
        "for i in G.nodes():\n",
        "  for j in G.nodes():\n",
        "    #Check every node but only calculate paths if i and j are different nodes\n",
        "    if i !=j:\n",
        "      #Initialize cost and time as 0\n",
        "      costo = 0\n",
        "      tiempo = 0\n",
        "      #Only add an edge if it is not already present\n",
        "      if ((str(i),str(j)) or (str(i),str(j))) not in G_new.edges():\n",
        "        #For every element in the shortest path except for the last (because we will be adding +1)\n",
        "        for k in range(0, len(nx.dijkstra_path(G, i, j, weight='time'))-1):\n",
        "          #If the edge (k,k+1) exists\n",
        "          try:\n",
        "            #Add the cost of going from k to k+1\n",
        "            costo = costo + G.get_edge_data(nx.dijkstra_path(G, i, j, weight='time')[k],nx.dijkstra_path(G, i, j, weight='time')[k+1])['cost']\n",
        "            #Add the time of going from k to k+1\n",
        "            tiempo = tiempo + G.get_edge_data(nx.dijkstra_path(G, i, j, weight='time')[k],nx.dijkstra_path(G, i, j, weight='time')[k+1])['time']\n",
        "          #If the edge (k,k+1) doesn't exist, but rather it is (k+1,k) (inconsequential in an undirected graph, but is needed for networkx syntax)\n",
        "          except:\n",
        "            #Add the cost of going from k+1 to k\n",
        "            costo = costo + G.get_edge_data(nx.dijkstra_path(G, i, j, weight='time')[k+1],nx.dijkstra_path(G, i, j, weight='time')[k])['cost']\n",
        "            #Add the time of going from k to k+1\n",
        "            tiempo = tiempo + G.get_edge_data(nx.dijkstra_path(G, i, j, weight='time')[k+1],nx.dijkstra_path(G, i, j, weight='time')[k])['time']\n",
        "        #Add the new edge with corresponding cost and time\n",
        "        G_new.add_edge(i,j, cost = costo, time = tiempo)\n",
        "#Check graph density to make sure it is complete, if density = 1, then the graph is complete\n",
        "print(nx.density(G_new))"
      ],
      "metadata": {
        "colab": {
          "base_uri": "https://localhost:8080/"
        },
        "id": "F_D3OcUiszFn",
        "outputId": "7b8b6cb7-ec7f-4b7a-a3dc-74b1439b9b58"
      },
      "execution_count": null,
      "outputs": [
        {
          "output_type": "stream",
          "name": "stdout",
          "text": [
            "1.0\n"
          ]
        }
      ]
    },
    {
      "cell_type": "code",
      "source": [
        "#Function to make the first population\n",
        "def initialize_population(cities, population_size):\n",
        "    #Initialize first population as empty\n",
        "    population = []\n",
        "    #Make as many individuals as wantes\n",
        "    for i in range(population_size):\n",
        "        #Randomly make a list of the cities\n",
        "        individual = cities[np.random.choice(list(range(len(cities))), len(cities), replace=False)]\n",
        "        #Add the individual to the population\n",
        "        population.append(individual)\n",
        "    #Return the population\n",
        "    return np.array(population)"
      ],
      "metadata": {
        "id": "8-kD6oLKxw-P"
      },
      "execution_count": null,
      "outputs": []
    },
    {
      "cell_type": "code",
      "source": [
        "#Function to evaluate the fitness of an individual\n",
        "def evaluate_fitness(cities, cities_graph):\n",
        "    #Initialize time and cost as 0\n",
        "    totalcost = 0\n",
        "    totaltime = 0\n",
        "    #For every city in the individual\n",
        "    for i in range(len(cities)-1):\n",
        "        a = cities[i]\n",
        "        b = cities[i+1]\n",
        "        try:\n",
        "          #Get the cost of going from a to b if the edge (a,b) exists\n",
        "          totalcost += cities_graph.get_edge_data(a,b)['cost']\n",
        "          #Get the time of going from a to b if the edge (a,b) exists\n",
        "          totaltime += cities_graph.get_edge_data(a,b)['time']\n",
        "        except:\n",
        "          #Get the cost of going from b to a if the edge (b,a) exists\n",
        "          totalcost += cities_graph.get_edge_data(b,a)['cost']\n",
        "          #Get the cost of going from b to a if the edge (b,a) exists\n",
        "          totaltime += cities_graph.get_edge_data(b,a)['time']\n",
        "    #Add the cost and time of returning to the original city from the last city\n",
        "    try:\n",
        "      totalcost += cities_graph.get_edge_data(cities[0],cities[-1])['cost']\n",
        "      totaltime += cities_graph.get_edge_data(cities[0],cities[-1])['time']\n",
        "    except:\n",
        "      totalcost += cities_graph.get_edge_data(cities[-1],cities[0])['cost']\n",
        "      totaltime += cities_graph.get_edge_data(cities[-1],cities[0])['time']\n",
        "    #Heavily penalize solutions that exceed 72 hours\n",
        "    if totaltime > 4320:\n",
        "      totalcost += 990000\n",
        "    #Return the fitness proportional to the cost (higher costs have lower fitness)\n",
        "    return 1000 - totalcost/1000"
      ],
      "metadata": {
        "id": "NsBJzsgtyPuq"
      },
      "execution_count": null,
      "outputs": []
    },
    {
      "cell_type": "code",
      "source": [
        "#Function to get the fitness of a population\n",
        "def get_population_fitness(population, cities_graph):\n",
        "    #Initialize a fitness list as a list of zeroes\n",
        "    fitness_list = np.zeros(len(population))\n",
        "\n",
        "    #Looping over all solutions computing the fitness for each solution\n",
        "    for i in  range(len(population)):\n",
        "        fitness_list[i] = evaluate_fitness(population[i], cities_graph)\n",
        "\n",
        "    return fitness_list"
      ],
      "metadata": {
        "id": "ViWfKFzjzDdi"
      },
      "execution_count": null,
      "outputs": []
    },
    {
      "cell_type": "code",
      "source": [
        "#Function to select parents from a population that will mate\n",
        "def parent_selection(population, fitness_list):\n",
        "    #Get the probability of mating\n",
        "    total_fit = fitness_list.sum()\n",
        "    prob_list = fitness_list/total_fit\n",
        "    \n",
        "    #Notice there is the chance that a parent mates with oneself\n",
        "    parent_list_a = np.random.choice(list(range(len(population))), len(population),p=prob_list, replace=True)\n",
        "    parent_list_b = np.random.choice(list(range(len(population))), len(population),p=prob_list, replace=True)\n",
        "    \n",
        "    parent_list_a = population[parent_list_a]\n",
        "    parent_list_b = population[parent_list_b]\n",
        "    \n",
        "    \n",
        "    return np.array([parent_list_a,parent_list_b])"
      ],
      "metadata": {
        "id": "pig6inE7zXrh"
      },
      "execution_count": null,
      "outputs": []
    },
    {
      "cell_type": "code",
      "source": [
        "#Function to mate the parents\n",
        "def mate_parents(parent_a, parent_b):\n",
        "    #Get a random number of cities from parent a (up to 6, half the cities)\n",
        "    offspring = parent_a[0:random.randint(1,6)]\n",
        "    #Start adding the missing cities in the order parent b has them\n",
        "    for city in parent_b:\n",
        "        #Only add the cities that are missing\n",
        "        if not city in offspring:\n",
        "            offspring = np.concatenate((offspring,[city]))\n",
        "\n",
        "    return offspring"
      ],
      "metadata": {
        "id": "-FmxptQbzo3g"
      },
      "execution_count": null,
      "outputs": []
    },
    {
      "cell_type": "code",
      "source": [
        "#Function to mate a population\n",
        "def mate_population(potential_parents_list):\n",
        "    #Initialize the new population as empty\n",
        "    new_population = []\n",
        "    #Create offspring\n",
        "    for i in range(potential_parents_list.shape[1]):\n",
        "        parent_a, parent_b = potential_parents_list[0][i], potential_parents_list[1][i]\n",
        "        offspring = mate_parents(parent_a, parent_b)\n",
        "        new_population.append(offspring)\n",
        "        \n",
        "    return new_population"
      ],
      "metadata": {
        "id": "OC6i-3FzJgHh"
      },
      "execution_count": null,
      "outputs": []
    },
    {
      "cell_type": "code",
      "source": [
        "#Function to mutate an individual\n",
        "def mutate_offspring(offspring, mutation_rate):\n",
        "    for q in range(int(len(offspring)*mutation_rate)):\n",
        "        a = np.random.randint(0,len(offspring))\n",
        "        b = np.random.randint(0,len(offspring))\n",
        "        #Swap the order of two cities\n",
        "        offspring[a], offspring[b] = offspring[b], offspring[a]\n",
        "\n",
        "    return offspring"
      ],
      "metadata": {
        "id": "cluq0bzmz9gm"
      },
      "execution_count": null,
      "outputs": []
    },
    {
      "cell_type": "code",
      "source": [
        "#Function to mutate a population\n",
        "def mutate_population(new_population_set, mutation_rate):\n",
        "    mutated_pop = []\n",
        "    for offspring in new_population_set:\n",
        "        mutated_pop.append(mutate_offspring(offspring, mutation_rate))\n",
        "    return np.array(mutated_pop)"
      ],
      "metadata": {
        "id": "yRinb1ejLp7u"
      },
      "execution_count": null,
      "outputs": []
    },
    {
      "cell_type": "code",
      "source": [
        "#Function to get the total time of a solution\n",
        "def get_solution_time(solution, solution_graph):\n",
        "  totaltime = 0\n",
        "  for i in range(len(solution)-1):\n",
        "      a = solution[i]\n",
        "      b = solution[i+1]\n",
        "      try:\n",
        "        totaltime += solution_graph.get_edge_data(a,b)['time']\n",
        "      except:\n",
        "        totaltime += solution_graph.get_edge_data(b,a)['time']\n",
        "  try:\n",
        "    totaltime += solution_graph.get_edge_data(solution[0],solution[-1])['time']\n",
        "  except:\n",
        "    totaltime += solution_graph.get_edge_data(solution[-1],solution[0])['time']\n",
        "  return totaltime"
      ],
      "metadata": {
        "id": "WkREoASc5cmx"
      },
      "execution_count": null,
      "outputs": []
    },
    {
      "cell_type": "code",
      "source": [
        "population_size = 500\n",
        "mutation_rate = 0.2\n",
        "cities = np.array(list(G_new.nodes()))"
      ],
      "metadata": {
        "id": "_ZFFq7NZ0v-e"
      },
      "execution_count": null,
      "outputs": []
    },
    {
      "cell_type": "code",
      "source": [
        "#Creating an array to store the best solution\n",
        "best_solution = [-1,np.inf,np.array([])]\n",
        "#Set number of iterations\n",
        "num_of_iter = 2000\n",
        "#Create the initial population\n",
        "initial_population = initialize_population(cities, population_size)\n",
        "#Go through the process of creating a new one\n",
        "fitnesslist = get_population_fitness(initial_population,G_new)\n",
        "parent_list = parent_selection(initial_population,fitnesslist)\n",
        "new_population = mate_population(parent_list)\n",
        "#Get the second population as the input for the new one\n",
        "mutated_population = mutate_population(new_population, mutation_rate)\n",
        "for i in range(num_of_iter):\n",
        "    #Print the progress\n",
        "    if i%100==0: print(\"Porcentaje completado =\", int(i/num_of_iter * 100), \"| fitness de la mejor solución = \", fitnesslist.max(),\n",
        "                       \"| fitness promedio de la población evaluada =\", fitnesslist.mean(), \"| encontrada:\", datetime.now().strftime(\"%d/%m/%y %H:%M\"))\n",
        "    #Get the fitness of the input population\n",
        "    fitnesslist = get_population_fitness(mutated_population,G_new)\n",
        "    \n",
        "    #Saving the best solution\n",
        "    if fitnesslist.min() < best_solution[1]:\n",
        "        #Save on which iteration it was obtained\n",
        "        best_solution[0] = i\n",
        "        #Save the cost of the solution\n",
        "        best_solution[1] = (1000 - fitnesslist.max())*1000\n",
        "        #Save the solution\n",
        "        best_solution[2] = np.array(mutated_population)[fitnesslist.max() == fitnesslist]\n",
        "    #Create new parents from previous population\n",
        "    parent_list = parent_selection(mutated_population, fitnesslist)\n",
        "    #Create new population\n",
        "    new_population = mate_population(parent_list)\n",
        "    #Mutate the new population\n",
        "    mutated_population = mutate_population(new_population, mutation_rate)"
      ],
      "metadata": {
        "colab": {
          "base_uri": "https://localhost:8080/"
        },
        "id": "q0hZLLlv2w9Y",
        "outputId": "019f8a3b-c2ec-47d8-af9a-83f10aa3b8d7"
      },
      "execution_count": null,
      "outputs": [
        {
          "output_type": "stream",
          "name": "stdout",
          "text": [
            "Porcentaje completado = 0 | fitness de la mejor solución =  997.476 | fitness promedio de la población evaluada = 69.015414 | encontrada: 01/05/23 21:31\n",
            "Porcentaje completado = 5 | fitness de la mejor solución =  997.581 | fitness promedio de la población evaluada = 233.736876 | encontrada: 01/05/23 21:31\n",
            "Porcentaje completado = 10 | fitness de la mejor solución =  997.566 | fitness promedio de la población evaluada = 249.55779199999998 | encontrada: 01/05/23 21:31\n",
            "Porcentaje completado = 15 | fitness de la mejor solución =  997.461 | fitness promedio de la población evaluada = 255.559166 | encontrada: 01/05/23 21:31\n",
            "Porcentaje completado = 20 | fitness de la mejor solución =  997.501 | fitness promedio de la población evaluada = 265.47303000000005 | encontrada: 01/05/23 21:31\n",
            "Porcentaje completado = 25 | fitness de la mejor solución =  997.471 | fitness promedio de la población evaluada = 265.433908 | encontrada: 01/05/23 21:32\n",
            "Porcentaje completado = 30 | fitness de la mejor solución =  997.746 | fitness promedio de la población evaluada = 217.93615400000002 | encontrada: 01/05/23 21:32\n",
            "Porcentaje completado = 35 | fitness de la mejor solución =  997.501 | fitness promedio de la población evaluada = 213.91147800000002 | encontrada: 01/05/23 21:32\n",
            "Porcentaje completado = 40 | fitness de la mejor solución =  997.776 | fitness promedio de la población evaluada = 245.606648 | encontrada: 01/05/23 21:32\n",
            "Porcentaje completado = 45 | fitness de la mejor solución =  997.456 | fitness promedio de la población evaluada = 225.769462 | encontrada: 01/05/23 21:32\n",
            "Porcentaje completado = 50 | fitness de la mejor solución =  997.541 | fitness promedio de la población evaluada = 239.65580799999998 | encontrada: 01/05/23 21:32\n",
            "Porcentaje completado = 55 | fitness de la mejor solución =  997.586 | fitness promedio de la población evaluada = 239.681648 | encontrada: 01/05/23 21:33\n",
            "Porcentaje completado = 60 | fitness de la mejor solución =  997.746 | fitness promedio de la población evaluada = 227.812864 | encontrada: 01/05/23 21:33\n",
            "Porcentaje completado = 65 | fitness de la mejor solución =  997.581 | fitness promedio de la población evaluada = 249.61989799999998 | encontrada: 01/05/23 21:33\n",
            "Porcentaje completado = 70 | fitness de la mejor solución =  997.471 | fitness promedio de la población evaluada = 229.812172 | encontrada: 01/05/23 21:33\n",
            "Porcentaje completado = 75 | fitness de la mejor solución =  997.476 | fitness promedio de la población evaluada = 190.129466 | encontrada: 01/05/23 21:33\n",
            "Porcentaje completado = 80 | fitness de la mejor solución =  997.581 | fitness promedio de la población evaluada = 231.740898 | encontrada: 01/05/23 21:33\n",
            "Porcentaje completado = 85 | fitness de la mejor solución =  997.581 | fitness promedio de la población evaluada = 219.879346 | encontrada: 01/05/23 21:33\n",
            "Porcentaje completado = 90 | fitness de la mejor solución =  997.536 | fitness promedio de la población evaluada = 235.75524599999997 | encontrada: 01/05/23 21:34\n",
            "Porcentaje completado = 95 | fitness de la mejor solución =  997.581 | fitness promedio de la población evaluada = 237.686292 | encontrada: 01/05/23 21:34\n"
          ]
        }
      ]
    },
    {
      "cell_type": "code",
      "source": [
        "#Get the solution with the intermediary cities\n",
        "solution_with_intermediaries = []\n",
        "#For each city in the solution\n",
        "for i in range(0, len(best_solution[2][0])-1):\n",
        "  #Append the city to the list\n",
        "  solution_with_intermediaries.append(best_solution[2][0][i])\n",
        "  #Get the shortes path in the original graph from city i to city i+1\n",
        "  pathlist = list(nx.dijkstra_path(G, best_solution[2][0][i], best_solution[2][0][i+1], weight='time'))\n",
        "  #Remove from the path cities i and i+1\n",
        "  pathlist = pathlist[1:-1]\n",
        "  #For each city in the path\n",
        "  for j in pathlist:\n",
        "    #Append the city\n",
        "    solution_with_intermediaries.append(j)\n",
        "#For the last city, get the path to return to the origin\n",
        "pathlist = list(nx.dijkstra_path(G, best_solution[2][0][-1], best_solution[2][0][0], weight='time'))\n",
        "#Remove the origin city (last in the shortest path)\n",
        "pathlist = pathlist[:-1]\n",
        "for j in pathlist:\n",
        "  #Append the cities\n",
        "  solution_with_intermediaries.append(j)"
      ],
      "metadata": {
        "id": "ULqXE_fW9hRa"
      },
      "execution_count": null,
      "outputs": []
    },
    {
      "cell_type": "code",
      "source": [
        "print(\"Best solution without including intermediary cities: \")\n",
        "for i in best_solution[2][0]:\n",
        "  print(i + ' to ', end = '')\n",
        "#Print the origin city\n",
        "print(best_solution[2][0][0])\n",
        "print('')\n",
        "print(\"Best solution including intermediary cities: \")\n",
        "for i in solution_with_intermediaries:\n",
        "  print(i + ' to ', end = '')\n",
        "#Print the origin city\n",
        "print(best_solution[2][0][0])\n",
        "print('')\n",
        "print(\"Cost of travel: \")\n",
        "print(int(best_solution[1]), 'euros')\n",
        "print('')\n",
        "print(\"Time of travel: \")\n",
        "print(get_solution_time(best_solution[2][0], G_new), 'minutes, or',get_solution_time(best_solution[2][0], G_new)/60, 'hours')"
      ],
      "metadata": {
        "colab": {
          "base_uri": "https://localhost:8080/"
        },
        "id": "o12TU8h_32s5",
        "outputId": "9c962edb-f942-4ea2-d4a9-62d97c8d6d70"
      },
      "execution_count": null,
      "outputs": [
        {
          "output_type": "stream",
          "name": "stdout",
          "text": [
            "Best solution without including intermediary cities: \n",
            "Berlin to Amsterdam to Cologne to Paris to Madrid to Barcelona to Rome to Milan to Lyon to Brussels to London to Frankfurt to Berlin\n",
            "\n",
            "Best solution including intermediary cities: \n",
            "Berlin to Amsterdam to Cologne to Amsterdam to Brussels to Paris to Madrid to Barcelona to Lyon to Milan to Rome to Milan to Lyon to Paris to Brussels to London to Brussels to Amsterdam to Cologne to Frankfurt to Berlin\n",
            "\n",
            "Cost of travel: \n",
            "2448 euros\n",
            "\n",
            "Time of travel: \n",
            "3241 minutes, or 54.016666666666666 hours\n"
          ]
        }
      ]
    }
  ]
}